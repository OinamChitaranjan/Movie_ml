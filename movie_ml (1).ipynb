{
  "cells": [
    {
      "cell_type": "code",
      "execution_count": null,
      "metadata": {
        "id": "LuIEsomj3X6F"
      },
      "outputs": [],
      "source": [
        "import numpy as np\n",
        "import pandas as pd\n",
        "import difflib\n",
        "from sklearn.feature_extraction.text import TfidfVectorizer\n",
        "from sklearn.metrics.pairwise import cosine_similarity"
      ]
    },
    {
      "cell_type": "code",
      "execution_count": null,
      "metadata": {
        "id": "0ofn-T7h61p9"
      },
      "outputs": [],
      "source": [
        "movies_data = pd.read_csv('/content/movies.csv')"
      ]
    },
    {
      "cell_type": "code",
      "execution_count": null,
      "metadata": {
        "id": "vTtBf02-7IQz"
      },
      "outputs": [],
      "source": [
        "movies_data.head()\n"
      ]
    },
    {
      "cell_type": "code",
      "execution_count": null,
      "metadata": {
        "colab": {
          "base_uri": "https://localhost:8080/"
        },
        "id": "oIeqD4lz75JN",
        "outputId": "12423b33-c4d7-4647-8da5-fb089a73fa4f"
      },
      "outputs": [
        {
          "data": {
            "text/plain": [
              "(4803, 24)"
            ]
          },
          "execution_count": 4,
          "metadata": {},
          "output_type": "execute_result"
        }
      ],
      "source": [
        "movies_data.shape"
      ]
    },
    {
      "cell_type": "code",
      "execution_count": null,
      "metadata": {
        "id": "DnnWSgP1_a_z"
      },
      "outputs": [],
      "source": [
        "selected_features =  ['genres','keywords','tagline','cast','director']\n",
        "for feature in selected_features:\n",
        "  movies_data[feature] = movies_data[feature].fillna('')"
      ]
    },
    {
      "cell_type": "code",
      "execution_count": null,
      "metadata": {
        "colab": {
          "base_uri": "https://localhost:8080/"
        },
        "id": "CCE-dsYrGgu0",
        "outputId": "aa0835df-0618-4173-f0ae-91a927b7abbd"
      },
      "outputs": [
        {
          "name": "stdout",
          "output_type": "stream",
          "text": [
            "0       Action Adventure Fantasy Science Fiction cultu...\n",
            "1       Adventure Fantasy Action ocean drug abuse exot...\n",
            "2       Action Adventure Crime spy based on novel secr...\n",
            "3       Action Crime Drama Thriller dc comics crime fi...\n",
            "4       Action Adventure Science Fiction based on nove...\n",
            "                              ...                        \n",
            "4798    Action Crime Thriller united states\\u2013mexic...\n",
            "4799    Comedy Romance  A newlywed couple's honeymoon ...\n",
            "4800    Comedy Drama Romance TV Movie date love at fir...\n",
            "4801      A New Yorker in Shanghai Daniel Henney Eliza...\n",
            "4802    Documentary obsession camcorder crush dream gi...\n",
            "Length: 4803, dtype: object\n"
          ]
        }
      ],
      "source": [
        "combined_features = movies_data['genres']+' '+movies_data['keywords']+' '+movies_data['tagline']+' '+movies_data['cast']+' '+movies_data['director']\n",
        "print(combined_features)\n"
      ]
    },
    {
      "cell_type": "code",
      "execution_count": null,
      "metadata": {
        "id": "AIQJgnT9K3MP"
      },
      "outputs": [],
      "source": [
        "vectorizer = TfidfVectorizer()\n",
        "feature_vectors = vectorizer.fit_transform(combined_features)"
      ]
    },
    {
      "cell_type": "code",
      "execution_count": null,
      "metadata": {
        "id": "uJe59d89SzP7"
      },
      "outputs": [],
      "source": [
        "similarity=cosine_similarity(feature_vectors)"
      ]
    },
    {
      "cell_type": "code",
      "execution_count": null,
      "metadata": {
        "id": "vIxx-CR2SmHz"
      },
      "outputs": [],
      "source": [
        "import joblib"
      ]
    },
    {
      "cell_type": "code",
      "execution_count": null,
      "metadata": {
        "colab": {
          "base_uri": "https://localhost:8080/"
        },
        "id": "3aEJTM47SW_e",
        "outputId": "59b48e46-836d-46e6-c6de-33fabdfd1f6f"
      },
      "outputs": [
        {
          "data": {
            "text/plain": [
              "['movies_data.pkl']"
            ]
          },
          "execution_count": 10,
          "metadata": {},
          "output_type": "execute_result"
        }
      ],
      "source": [
        "joblib.dump(similarity,'similarity.pkl')\n",
        "joblib.dump(movies_data,'movies_data.pkl')"
      ]
    },
    {
      "cell_type": "code",
      "execution_count": null,
      "metadata": {
        "colab": {
          "background_save": true,
          "base_uri": "https://localhost:8080/",
          "height": 611
        },
        "id": "bjICec1bdZh7",
        "outputId": "fd1e7aef-fd38-419a-a9ff-45cb46d38b6a"
      },
      "outputs": [
        {
          "metadata": {
            "tags": null
          },
          "name": "stdout",
          "output_type": "stream",
          "text": [
            "Colab notebook detected. This cell will run indefinitely so that you can see errors and logs. To turn off, set debug=False in launch().\n",
            "* Running on public URL: https://ac8b6e47e922ac2c97.gradio.live\n",
            "\n",
            "This share link expires in 1 week. For free permanent hosting and GPU upgrades, run `gradio deploy` from the terminal in the working directory to deploy to Hugging Face Spaces (https://huggingface.co/spaces)\n"
          ]
        },
        {
          "data": {
            "text/html": [
              "<div><iframe src=\"https://ac8b6e47e922ac2c97.gradio.live\" width=\"100%\" height=\"500\" allow=\"autoplay; camera; microphone; clipboard-read; clipboard-write;\" frameborder=\"0\" allowfullscreen></iframe></div>"
            ],
            "text/plain": [
              "<IPython.core.display.HTML object>"
            ]
          },
          "metadata": {},
          "output_type": "display_data"
        }
      ],
      "source": [
        "import gradio as gr\n",
        "movies_data = joblib.load('movies_data.pkl')\n",
        "similarity= joblib.load('similarity.pkl')\n",
        "\n",
        "def recommend_movies(movie_name,n):\n",
        "  list_of_all_titles = movies_data['title'].tolist()\n",
        "  find_close_match = difflib.get_close_matches(movie_name, list_of_all_titles)\n",
        "  close_match = find_close_match[0]\n",
        "  index_of_the_movie = movies_data[movies_data.title == close_match]['index'].values[0]\n",
        "  similarity_score=list(enumerate(similarity[index_of_the_movie]))\n",
        "  sorted_similar_movies = sorted(similarity_score, key = lambda x:x[1], reverse = True)\n",
        "  recommendations=[]\n",
        "  i=1\n",
        "  for movie in sorted_similar_movies:\n",
        "    index= movie[0]\n",
        "    title=movies_data[movies_data.index== index]['title'].values[0]\n",
        "    if i <= n and title!= close_match:\n",
        "      recommendations.append(f\"{i}.{title}\")\n",
        "      i +=1\n",
        "  return \"\\n\".join(recommendations)\n",
        "iface = gr.Interface(\n",
        "    fn=recommend_movies,\n",
        "    inputs=[\n",
        "        gr.Textbox(label=\"Enter the movie name\"),\n",
        "        gr.Radio(choices=[5,10,20,50],label=\"Number of recommendations\",value=10)\n",
        "        ],\n",
        "    outputs=gr.Textbox(label=\"Recommended Movie\"),\n",
        "    title=\"MovieRecommender\")\n",
        "iface.launch(share=True,debug=True)"
      ]
    }
  ],
  "metadata": {
    "colab": {
      "provenance": []
    },
    "kernelspec": {
      "display_name": "Python 3",
      "name": "python3"
    },
    "language_info": {
      "name": "python"
    }
  },
  "nbformat": 4,
  "nbformat_minor": 0
}